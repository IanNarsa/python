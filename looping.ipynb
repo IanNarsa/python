{
 "cells": [
  {
   "cell_type": "markdown",
   "metadata": {},
   "source": [
    "# LOOPING"
   ]
  },
  {
   "cell_type": "code",
   "execution_count": 2,
   "metadata": {},
   "outputs": [
    {
     "name": "stdout",
     "output_type": "stream",
     "text": [
      "masukan password untuk regigtrasi : asinan\n",
      "Silahkan masukan password : asina\n",
      "Salah password\n",
      "Silahkan masukan password : asinan\n",
      "Welcome\n"
     ]
    }
   ],
   "source": [
    "regis = input(\"masukan password untuk regigtrasi : \")\n",
    "a=0\n",
    "password = False\n",
    "while password == False and a <3:\n",
    "    pasATM = input (\"Silahkan masukan password : \")\n",
    "    \n",
    "    if pasATM == regis:\n",
    "        password = True\n",
    "        print(\"Welcome\")\n",
    "    else:\n",
    "        print(\"Salah password\")\n",
    "        a+=1\n",
    "        if a==3:\n",
    "            print(\"terblokir\")"
   ]
  },
  {
   "cell_type": "code",
   "execution_count": null,
   "metadata": {},
   "outputs": [],
   "source": []
  }
 ],
 "metadata": {
  "kernelspec": {
   "display_name": "Python 3",
   "language": "python",
   "name": "python3"
  },
  "language_info": {
   "codemirror_mode": {
    "name": "ipython",
    "version": 3
   },
   "file_extension": ".py",
   "mimetype": "text/x-python",
   "name": "python",
   "nbconvert_exporter": "python",
   "pygments_lexer": "ipython3",
   "version": "3.7.1"
  }
 },
 "nbformat": 4,
 "nbformat_minor": 2
}
