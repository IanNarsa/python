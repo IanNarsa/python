{
 "cells": [
  {
   "cell_type": "code",
   "execution_count": 5,
   "metadata": {},
   "outputs": [],
   "source": [
    "# Parent Class\n",
    "class Manusia():\n",
    "    def __init__(self, nama, jk):\n",
    "        self.nama = nama\n",
    "        self.jk = jk\n",
    "    \n",
    "        \n",
    "class Mahasiswa(Manusia):\n",
    "    def ktm(self, nim, jurusan):\n",
    "        self.nim = nim\n",
    "        self.jurusan = jurusan\n",
    "        print(self.nim, self.jurusan)\n",
    "        return \"\".format(self.nim, jurusan)\n",
    "    def description(self):\n",
    "        print(self.nama, self.jk)\n",
    "        return\"\" .format(self.nama,self.jk)\n",
    "    "
   ]
  },
  {
   "cell_type": "code",
   "execution_count": 6,
   "metadata": {},
   "outputs": [
    {
     "name": "stdout",
     "output_type": "stream",
     "text": [
      "Septian laki - laki\n",
      "\n",
      "0084 Teknik Informatika\n",
      "\n"
     ]
    }
   ],
   "source": [
    "# Child classed inherits attributes and behaviors from parent class\n",
    "\n",
    "a = Mahasiswa(\"Septian\",\"laki - laki\")\n",
    "\n",
    "print(a.description())\n",
    "print(a.ktm(\"0084\",\"Teknik Informatika\"))"
   ]
  },
  {
   "cell_type": "code",
   "execution_count": null,
   "metadata": {},
   "outputs": [],
   "source": []
  }
 ],
 "metadata": {
  "kernelspec": {
   "display_name": "Python 3",
   "language": "python",
   "name": "python3"
  },
  "language_info": {
   "codemirror_mode": {
    "name": "ipython",
    "version": 3
   },
   "file_extension": ".py",
   "mimetype": "text/x-python",
   "name": "python",
   "nbconvert_exporter": "python",
   "pygments_lexer": "ipython3",
   "version": "3.7.1"
  }
 },
 "nbformat": 4,
 "nbformat_minor": 2
}
