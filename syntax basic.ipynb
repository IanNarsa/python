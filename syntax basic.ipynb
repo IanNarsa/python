{
 "cells": [
  {
   "cell_type": "code",
   "execution_count": 2,
   "metadata": {},
   "outputs": [
    {
     "name": "stdout",
     "output_type": "stream",
     "text": [
      "I Love You So Much\n"
     ]
    }
   ],
   "source": [
    "print (\"I Love You So Much\")"
   ]
  },
  {
   "cell_type": "code",
   "execution_count": 11,
   "metadata": {},
   "outputs": [
    {
     "name": "stdout",
     "output_type": "stream",
     "text": [
      "masukan kalimat : ilove u so much\n",
      "ilove u so much\n"
     ]
    }
   ],
   "source": [
    "x = input ('masukan kalimat : ')\n",
    "print (x)"
   ]
  },
  {
   "cell_type": "code",
   "execution_count": 12,
   "metadata": {},
   "outputs": [
    {
     "name": "stdout",
     "output_type": "stream",
     "text": [
      "dari ku untuk mu  ilove u so much\n",
      "dari ku untuk mu  ilove u so much\n",
      "dari ku untuk mu  ilove u so much\n",
      "dari ku untuk mu  ilove u so much\n",
      "dari ku untuk mu  ilove u so much\n",
      "dari ku untuk mu  ilove u so much\n",
      "dari ku untuk mu  ilove u so much\n",
      "dari ku untuk mu  ilove u so much\n",
      "dari ku untuk mu  ilove u so much\n",
      "dari ku untuk mu  ilove u so much\n",
      "dari ku untuk mu  ilove u so much\n",
      "dari ku untuk mu  ilove u so much\n",
      "dari ku untuk mu  ilove u so much\n",
      "dari ku untuk mu  ilove u so much\n",
      "dari ku untuk mu  ilove u so much\n"
     ]
    }
   ],
   "source": [
    "ulang = 10\n",
    "for ulang in x :\n",
    "    print (\"dari ku untuk mu  \"+x)"
   ]
  },
  {
   "cell_type": "code",
   "execution_count": 18,
   "metadata": {},
   "outputs": [
    {
     "name": "stdout",
     "output_type": "stream",
     "text": [
      "masukan nilai : 3\n",
      "masukan kalimat : hai kamu yang di sana\n",
      "masukan kalimat : ingin ku katakan i love u so much\n",
      "masukan kalimat : tapi aku ingat kalau kita belum halal\n"
     ]
    }
   ],
   "source": [
    "n = int (input (\"masukan nilai : \"))\n",
    "arr = []\n",
    "for _ in range (n):\n",
    "    x = str (input(\"masukan kalimat : \"))\n",
    "    arr.append(x)"
   ]
  },
  {
   "cell_type": "code",
   "execution_count": 20,
   "metadata": {},
   "outputs": [
    {
     "name": "stdout",
     "output_type": "stream",
     "text": [
      "hai kamu yang di sana ingin ku katakan i love u so much tapi aku ingat kalau kita belum halal\n"
     ]
    }
   ],
   "source": [
    "print (*arr)"
   ]
  },
  {
   "cell_type": "code",
   "execution_count": null,
   "metadata": {
    "collapsed": true
   },
   "outputs": [],
   "source": []
  }
 ],
 "metadata": {
  "kernelspec": {
   "display_name": "Python 3",
   "language": "python",
   "name": "python3"
  },
  "language_info": {
   "codemirror_mode": {
    "name": "ipython",
    "version": 3
   },
   "file_extension": ".py",
   "mimetype": "text/x-python",
   "name": "python",
   "nbconvert_exporter": "python",
   "pygments_lexer": "ipython3",
   "version": "3.6.6"
  }
 },
 "nbformat": 4,
 "nbformat_minor": 2
}
