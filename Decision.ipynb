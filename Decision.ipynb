{
 "cells": [
  {
   "cell_type": "code",
   "execution_count": 1,
   "metadata": {},
   "outputs": [],
   "source": [
    "def isSquare(length,width):\n",
    "    if length == width:\n",
    "        itsASquare = True\n",
    "    else:\n",
    "        itsASquare = False\n",
    "    return itsASquare\n",
    "\n",
    "def Even(a):\n",
    "    number = a%2\n",
    "    if number == 0:\n",
    "        return True\n",
    "    else:\n",
    "        return False\n",
    "    \n",
    "def cetak(number):\n",
    "    if Even(number):\n",
    "        print(number, 'is even')\n",
    "    else:\n",
    "        print(number, 'is odd')\n"
   ]
  },
  {
   "cell_type": "code",
   "execution_count": 2,
   "metadata": {},
   "outputs": [],
   "source": [
    "NOT_YET = \"We don't ship there yet\"\n",
    "def calculateShipping(country, nWidgets, l):\n",
    "    if (country == 'USA')or(country == 'US')or(country=='United States'):\n",
    "        if nWidgets<50 and l < 50:\n",
    "            shippingCost = 6.25\n",
    "        elif nWidgets<100:\n",
    "            shippingCost = 9.50\n",
    "        elif nWidgets<150:\n",
    "            shippingCost = 12.75\n",
    "        else:\n",
    "            shippingCost = 15.00\n",
    "        \n",
    "    elif country == 'Canada':\n",
    "        if nWidgets < 50:\n",
    "            shippingCost = 8.25\n",
    "        elif nWidgets < 100:\n",
    "            shippingCost = 100\n",
    "        elif nWidgets<150:\n",
    "            shippingCost = 18.75\n",
    "        else:\n",
    "            shippingCost = 19.00\n",
    "    \n",
    "    else:\n",
    "        shippingCost = NOT_YET\n",
    "        \n",
    "    return shippingCost"
   ]
  },
  {
   "cell_type": "code",
   "execution_count": 3,
   "metadata": {},
   "outputs": [],
   "source": [
    "NOT_YET = \"We don't ship there yet\"\n",
    "def calculateShipping(country, nWidgets, l):\n",
    "    if (country == 'USA')or(country == 'US')or(country=='United States'):\n",
    "        if nWidgets<50 and l < 50:\n",
    "            shippingCost = 6.25\n",
    "        elif nWidgets<100:\n",
    "            shippingCost = 9.50\n",
    "        elif nWidgets<150:\n",
    "            shippingCost = 12.75\n",
    "        else:\n",
    "            shippingCost = 15.00\n",
    "        \n",
    "    elif country == 'Canada':\n",
    "        if nWidgets < 50:\n",
    "            shippingCost = 8.25\n",
    "        elif nWidgets < 100:\n",
    "            shippingCost = 100\n",
    "        elif nWidgets<150:\n",
    "            shippingCost = 18.75\n",
    "        else:\n",
    "            shippingCost = 19.00\n",
    "    \n",
    "    else:\n",
    "        shippingCost = NOT_YET\n",
    "        \n",
    "    return shippingCost"
   ]
  },
  {
   "cell_type": "code",
   "execution_count": 4,
   "metadata": {},
   "outputs": [
    {
     "name": "stdout",
     "output_type": "stream",
     "text": [
      "How many widgets are you buying? 2\n",
      "What country are you shipping to? US\n",
      "Input Length : 23\n",
      "Input Width : 24\n",
      "=========================\n",
      "23.0 is odd\n",
      "24.0 is even\n",
      "=========================\n",
      "23.0 and 24.0 do not represent a square\n",
      "It will cost $ 9.5  to ship your package\n"
     ]
    }
   ],
   "source": [
    "userWidgets = input('How many widgets are you buying? ')\n",
    "userWidgets = int(userWidgets)\n",
    "\n",
    "userCountry = input('What country are you shipping to? ')\n",
    "\n",
    "userLength = input(\"Input Length : \")\n",
    "userLength = float(userLength)\n",
    "userWidth = input(\"Input Width : \")\n",
    "userWidth = float(userWidth)\n",
    "large=userLength*userWidth\n",
    "print(\"=========================\")\n",
    "cetak(userLength)\n",
    "cetak(userWidth)\n",
    "print(\"=========================\")\n",
    "if isSquare(userLength,userWidth):\n",
    "    print(userLength, 'and', userWidth, 'represent a square')\n",
    "else:\n",
    "    print(userLength, 'and', userWidth, 'do not represent a square')\n",
    "    \n",
    "amountForShipping = calculateShipping(userCountry, userWidgets,large)\n",
    "if amountForShipping == NOT_YET:\n",
    "    print('Sorry, we do not ship to', userCountry)\n",
    "else:\n",
    "    print('It will cost $',amountForShipping,' to ship your package')\n"
   ]
  },
  {
   "cell_type": "code",
   "execution_count": null,
   "metadata": {},
   "outputs": [],
   "source": []
  }
 ],
 "metadata": {
  "kernelspec": {
   "display_name": "Python 3",
   "language": "python",
   "name": "python3"
  },
  "language_info": {
   "codemirror_mode": {
    "name": "ipython",
    "version": 3
   },
   "file_extension": ".py",
   "mimetype": "text/x-python",
   "name": "python",
   "nbconvert_exporter": "python",
   "pygments_lexer": "ipython3",
   "version": "3.7.1"
  }
 },
 "nbformat": 4,
 "nbformat_minor": 2
}
