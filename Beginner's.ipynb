{
 "cells": [
  {
   "cell_type": "markdown",
   "metadata": {},
   "source": [
    "Beginner's\n",
    "\n",
    "1. Basic Syntax\n",
    "2. Variable Types\n",
    "3. Basic Operators\n",
    "4. Decision Making\n",
    "5. Loops\n",
    "6. Number\n",
    "7. String\n",
    "8. Lists\n",
    "9. Tuples\n",
    "10. Dictionary\n",
    "11. Date and Time\n",
    "12. Functions\n",
    "13. Modules\n",
    "14. File I/O\n",
    "15. Exceptions"
   ]
  },
  {
   "cell_type": "code",
   "execution_count": 1,
   "metadata": {},
   "outputs": [
    {
     "name": "stdout",
     "output_type": "stream",
     "text": [
      "Test\n",
      "string <class 'str'>\n",
      "1 <class 'int'>\n",
      "1.5 <class 'float'>\n",
      "----------------------\n",
      "----convert to str----\n",
      "----------------------\n",
      "1 <class 'str'>\n",
      "1.5 <class 'str'>\n",
      "----------------------\n",
      "----convert to int----\n",
      "----------------------\n",
      "1 <class 'int'>\n",
      "----------------------\n",
      "----convert to flt----\n",
      "----------------------\n",
      "1.5 <class 'float'>\n"
     ]
    }
   ],
   "source": [
    "print(\"Test\")\n",
    "a = 'string'\n",
    "b = 1\n",
    "c = 1.5\n",
    "\n",
    "print(a,type(a))\n",
    "print(b,type(b))\n",
    "print(c,type(c))\n",
    "print('----------------------')\n",
    "print('----convert to str----')\n",
    "print('----------------------')\n",
    "b = str(b)\n",
    "c = str(c)\n",
    "print(b, type(b))\n",
    "print(c, type(b))\n",
    "print('----------------------')\n",
    "print('----convert to int----')\n",
    "print('----------------------')\n",
    "b = int(b)\n",
    "print(b, type(b))\n",
    "print('----------------------')\n",
    "print('----convert to flt----')\n",
    "print('----------------------')\n",
    "c = float(c)\n",
    "print(c, type(c))"
   ]
  },
  {
   "cell_type": "code",
   "execution_count": 2,
   "metadata": {},
   "outputs": [
    {
     "name": "stdout",
     "output_type": "stream",
     "text": [
      "a =  5\n",
      "a =  lima\n"
     ]
    }
   ],
   "source": [
    "a = 5\n",
    "print(\"a = \",a)\n",
    "a = 'lima'\n",
    "print(\"a = \",a)"
   ]
  },
  {
   "cell_type": "code",
   "execution_count": 3,
   "metadata": {},
   "outputs": [
    {
     "data": {
      "text/plain": [
       "'\\nBlok komentar\\n'"
      ]
     },
     "execution_count": 3,
     "metadata": {},
     "output_type": "execute_result"
    }
   ],
   "source": [
    "# hastag simbol untuk memberi komentar\n",
    "\"\"\"\n",
    "Blok komentar\n",
    "\"\"\""
   ]
  },
  {
   "cell_type": "code",
   "execution_count": 4,
   "metadata": {},
   "outputs": [
    {
     "name": "stdout",
     "output_type": "stream",
     "text": [
      "masukan nilai : 70\n",
      "nilai yang anda masukan adalah  70\n"
     ]
    }
   ],
   "source": [
    "nilaiMasuk = input(\"masukan nilai : \")\n",
    "print('nilai yang anda masukan adalah ',nilaiMasuk)"
   ]
  },
  {
   "cell_type": "code",
   "execution_count": 5,
   "metadata": {},
   "outputs": [
    {
     "name": "stdout",
     "output_type": "stream",
     "text": [
      "a =  7\n",
      "b =  8\n",
      "\n",
      "a + b =  15\n",
      "a - b =  -1\n",
      "a * b =  56\n",
      "a / b =  0.875\n",
      "a % b =  7\n",
      "a **b =  5764801\n"
     ]
    }
   ],
   "source": [
    "#Operasi Aritmatika, pangkat dan modulus\n",
    "\n",
    "a = 7\n",
    "b = 8\n",
    "\n",
    "print('a = ',a)\n",
    "print('b = ',b)\n",
    "print()\n",
    "print('a + b = ',a+b) #penjumlahan\n",
    "print('a - b = ',a-b) #pengurangan\n",
    "print('a * b = ',a*b) #Perkalia\n",
    "print('a / b = ',a/b) #pembagian\n",
    "print('a % b = ',a%b) #modulus (sisa bagi)\n",
    "print('a **b = ',a**b)#pangkat"
   ]
  },
  {
   "cell_type": "code",
   "execution_count": null,
   "metadata": {},
   "outputs": [],
   "source": []
  },
  {
   "cell_type": "code",
   "execution_count": 6,
   "metadata": {},
   "outputs": [
    {
     "name": "stdout",
     "output_type": "stream",
     "text": [
      "nilai  80  adalah bilangan genap\n",
      "tipe variabel a =  <class 'int'>\n",
      "nilai 80 adalah bilangan genap\n",
      "tipe variabel a =  <class 'int'>\n"
     ]
    }
   ],
   "source": [
    "a = 80\n",
    "\n",
    "x = a%2\n",
    "\n",
    "if x == 0:\n",
    "    print('nilai ',a,' adalah bilangan genap')\n",
    "    print('tipe variabel a = ',type(a))\n",
    "    print('nilai '+str(a)+' adalah bilangan genap')\n",
    "    print('tipe variabel a = ',type(a))\n",
    "else:\n",
    "    print('nilai ',a,' adalah bilangan ganjil')\n",
    "    print('tipe variabel a = ',type(a))\n",
    "    print('nilai '+str(a)+' adalah bilangan ganjil')\n",
    "    print('tipe variabel a = ',type(a))"
   ]
  },
  {
   "cell_type": "code",
   "execution_count": 7,
   "metadata": {},
   "outputs": [
    {
     "name": "stdout",
     "output_type": "stream",
     "text": [
      "a\n",
      "b\n",
      "c\n"
     ]
    }
   ],
   "source": [
    "x = 'abc'\n",
    "\n",
    "for ulang in x :\n",
    "    print(ulang)"
   ]
  },
  {
   "cell_type": "code",
   "execution_count": 8,
   "metadata": {},
   "outputs": [
    {
     "name": "stdout",
     "output_type": "stream",
     "text": [
      "0  love you so much\n",
      "1  love you so much\n",
      "2  love you so much\n",
      "3  love you so much\n",
      "4  love you so much\n"
     ]
    }
   ],
   "source": [
    "x = ' love you so much'\n",
    "\n",
    "for n in range (5) :\n",
    "    print(n,x)"
   ]
  },
  {
   "cell_type": "code",
   "execution_count": 9,
   "metadata": {},
   "outputs": [
    {
     "name": "stdout",
     "output_type": "stream",
     "text": [
      "0  love you so much\n",
      "hasil dari n+=1 adalah 1\n",
      "\n",
      "1  love you so much\n",
      "hasil dari n+=1 adalah 2\n",
      "\n",
      "2  love you so much\n",
      "hasil dari n+=1 adalah 3\n",
      "\n",
      "3  love you so much\n",
      "hasil dari n+=1 adalah 4\n",
      "\n",
      "4  love you so much\n",
      "hasil dari n+=1 adalah 5\n",
      "\n"
     ]
    }
   ],
   "source": [
    "n = 0\n",
    "while n <= 4:\n",
    "    print(n,x)\n",
    "    n+=1\n",
    "    print('hasil dari n+=1 adalah',n)\n",
    "    print()"
   ]
  },
  {
   "cell_type": "code",
   "execution_count": 10,
   "metadata": {},
   "outputs": [
    {
     "name": "stdout",
     "output_type": "stream",
     "text": [
      "masukan nilai : 5\n",
      "masukan kalimat : aku\n",
      "masukan kalimat : sayang\n",
      "masukan kalimat : kamu\n",
      "masukan kalimat : selalu\n",
      "masukan kalimat : semoga kamu sehat selalu\n"
     ]
    }
   ],
   "source": [
    "n = int (input (\"masukan nilai : \"))\n",
    "arr = []\n",
    "for _ in range (n):\n",
    "    x = str (input(\"masukan kalimat : \"))\n",
    "    arr.append(x)"
   ]
  },
  {
   "cell_type": "code",
   "execution_count": 11,
   "metadata": {},
   "outputs": [
    {
     "name": "stdout",
     "output_type": "stream",
     "text": [
      "aku sayang kamu selalu semoga kamu sehat selalu\n",
      "['aku', 'sayang', 'kamu', 'selalu', 'semoga kamu sehat selalu']\n"
     ]
    }
   ],
   "source": [
    "print (*arr)\n",
    "print(arr)"
   ]
  },
  {
   "cell_type": "code",
   "execution_count": 12,
   "metadata": {},
   "outputs": [
    {
     "name": "stdout",
     "output_type": "stream",
     "text": [
      "['data 1', 'data 2', 'data 3', 'buku', 'pensil']\n",
      "('data 1', 2, 'fisika', 'data 1')\n",
      "{'Nama': 'Zahra', 'Umur': 21, 'Posisi': 'Back End'}\n"
     ]
    }
   ],
   "source": [
    "#List\n",
    "#List dibuat dengan tanda [ ]\n",
    "clist = ['data 1', 'data 2', 'data 3', 'buku', 'pensil']\n",
    "\n",
    "#Tuples\n",
    "#Tuples dibuat dengan tanda ( ), perbedaan dengan list Tuple tidak bisa diedit setelah dibuat\n",
    "\n",
    "ctuples = ('data 1', 2, 'fisika', 'data 1')\n",
    "\n",
    "#Dictionary\n",
    "#Dictionary dibbuat dengan koleksi pasangan item item berasosiasi, satu key satu value\n",
    "dict = {'Nama': 'Zahra', 'Umur': 21, 'Posisi': 'Back End'}\n",
    "\n",
    "print(clist)\n",
    "print(ctuples)\n",
    "print(dict)"
   ]
  },
  {
   "cell_type": "code",
   "execution_count": 14,
   "metadata": {},
   "outputs": [
    {
     "name": "stdout",
     "output_type": "stream",
     "text": [
      "['teks 1', 'teks 2', 1999, 2000]\n",
      "teks 1\n",
      "teks 2\n",
      "1999\n",
      "2000\n",
      "\n",
      "[1, 2, 3, 4, 5, 6, 7]\n",
      "1\n",
      "2\n",
      "3\n",
      "4\n",
      "5\n",
      "6\n",
      "7\n"
     ]
    }
   ],
   "source": [
    "listA = ['teks 1', 'teks 2', 1999, 2000]\n",
    "listB = [1, 2, 3, 4, 5, 6, 7]\n",
    "\n",
    "print(listA)\n",
    "for x in listA:\n",
    "    print(x)\n",
    "print()\n",
    "print(listB)\n",
    "for x in listB:\n",
    "    print(x)"
   ]
  },
  {
   "cell_type": "code",
   "execution_count": 15,
   "metadata": {},
   "outputs": [
    {
     "name": "stdout",
     "output_type": "stream",
     "text": [
      "['teks 1', 'teks 2', 1999, 2000]\n",
      "4\n",
      "teks 1\n",
      "teks 2\n",
      "1999\n",
      "2000\n"
     ]
    }
   ],
   "source": [
    "print(listA)\n",
    "print(len(listA))\n",
    "print(listA[0])\n",
    "print(listA[1])\n",
    "print(listA[2])\n",
    "print(listA[3])"
   ]
  },
  {
   "cell_type": "code",
   "execution_count": 17,
   "metadata": {},
   "outputs": [
    {
     "name": "stdout",
     "output_type": "stream",
     "text": [
      "[1999, 2000, 2003]\n",
      "[1999, 2000, 2003, 2003]\n"
     ]
    }
   ],
   "source": [
    "del listA[0]\n",
    "print(listA)\n",
    "listA.append(2003)\n",
    "print(listA)"
   ]
  },
  {
   "cell_type": "code",
   "execution_count": 18,
   "metadata": {},
   "outputs": [
    {
     "name": "stdout",
     "output_type": "stream",
     "text": [
      "Hitung banyak data 2000 :  1\n"
     ]
    }
   ],
   "source": [
    "n = listA .count(2000)\n",
    "print(\"Hitung banyak data 2000 : \",n)"
   ]
  },
  {
   "cell_type": "code",
   "execution_count": 19,
   "metadata": {},
   "outputs": [
    {
     "name": "stdout",
     "output_type": "stream",
     "text": [
      "data listA dan listB digabung menjadi :  [1999, 2000, 2003, 2003, 1, 2, 3, 4, 5, 6, 7]\n"
     ]
    }
   ],
   "source": [
    "listA.extend(listB)\n",
    "print('data listA dan listB digabung menjadi : ', listA)"
   ]
  },
  {
   "cell_type": "code",
   "execution_count": 27,
   "metadata": {},
   "outputs": [
    {
     "name": "stdout",
     "output_type": "stream",
     "text": [
      "[7, 6, 5, 4, 3, 2, 1, 2003, 2003, 2000, 'Data Baru', 1999]\n"
     ]
    },
    {
     "ename": "ValueError",
     "evalue": "'teks 2' is not in list",
     "output_type": "error",
     "traceback": [
      "\u001b[0;31m---------------------------------------------------------------------------\u001b[0m",
      "\u001b[0;31mValueError\u001b[0m                                Traceback (most recent call last)",
      "\u001b[0;32m<ipython-input-27-5f5a90529660>\u001b[0m in \u001b[0;36m<module>\u001b[0;34m\u001b[0m\n\u001b[1;32m      1\u001b[0m \u001b[0mprint\u001b[0m\u001b[0;34m(\u001b[0m\u001b[0mlistA\u001b[0m\u001b[0;34m)\u001b[0m\u001b[0;34m\u001b[0m\u001b[0;34m\u001b[0m\u001b[0m\n\u001b[0;32m----> 2\u001b[0;31m \u001b[0mprint\u001b[0m\u001b[0;34m(\u001b[0m\u001b[0;34m'cari posisi index data teks 2 : '\u001b[0m\u001b[0;34m,\u001b[0m\u001b[0mlistA\u001b[0m\u001b[0;34m.\u001b[0m\u001b[0mindex\u001b[0m\u001b[0;34m(\u001b[0m\u001b[0;34m'teks 2'\u001b[0m\u001b[0;34m)\u001b[0m\u001b[0;34m)\u001b[0m\u001b[0;34m\u001b[0m\u001b[0;34m\u001b[0m\u001b[0m\n\u001b[0m",
      "\u001b[0;31mValueError\u001b[0m: 'teks 2' is not in list"
     ]
    }
   ],
   "source": [
    "print(listA)\n",
    "print('cari posisi index data teks 2 : ',listA.index('teks 2'))\n",
    "\"\"\"\n",
    "pada contoh ini kita mencari letak index data 'teks 2'\n",
    "karena data tidak ada pada index maka yang muncul ketika program dijalankan terlihat seperti di bawah ini\n",
    "\n",
    "muncul pesan error:\n",
    "\n",
    "ValueError : 'teks 2' is not in list\n",
    "\"\"\""
   ]
  },
  {
   "cell_type": "code",
   "execution_count": 28,
   "metadata": {},
   "outputs": [
    {
     "name": "stdout",
     "output_type": "stream",
     "text": [
      "cari posisi index data 1999 :  11\n",
      "data tidak ditemukan\n"
     ]
    }
   ],
   "source": [
    "\"\"\"\n",
    "Untuk error handling atau penanganan error kita bisa pakai exception sederhana dengan format\n",
    "\n",
    "try:\n",
    "    pernyataan / perintah\n",
    "except:\n",
    "    respon\n",
    "    \n",
    "apabila perintah atau pernyataan tidak dapat dikerjakan tidak akan muncul error program karena sudah ditangani\n",
    "oleh exception\n",
    "\"\"\"\n",
    "\n",
    "\n",
    "print('cari posisi index data 1999 : ',listA.index(1999))\n",
    "try:\n",
    "    print('cari posisi index data hahaha : ',listA.index('hahaha'))\n",
    "except:\n",
    "    print('data tidak ditemukan') #JIka data tidak ditemukan maka akan muncul sesuai pesan yang telah dibuat"
   ]
  },
  {
   "cell_type": "code",
   "execution_count": 22,
   "metadata": {},
   "outputs": [
    {
     "name": "stdout",
     "output_type": "stream",
     "text": [
      "[1999, 2000, 2003, 2003, 1, 2, 3, 4, 5, 6, 7]\n",
      "Hasil akhir :  [1999, 'Data Baru', 2000, 2003, 2003, 1, 2, 3, 4, 5, 6, 7]\n"
     ]
    }
   ],
   "source": [
    "print(listA)\n",
    "listA.insert(1, 'Data Baru')\n",
    "print('Hasil akhir : ', listA)"
   ]
  },
  {
   "cell_type": "code",
   "execution_count": 23,
   "metadata": {},
   "outputs": [
    {
     "name": "stdout",
     "output_type": "stream",
     "text": [
      "Data setelah dibalik urutannya :  [7, 6, 5, 4, 3, 2, 1, 2003, 2003, 2000, 'Data Baru', 1999]\n"
     ]
    }
   ],
   "source": [
    "listA.reverse()\n",
    "print('Data setelah dibalik urutannya : ', listA)"
   ]
  },
  {
   "cell_type": "code",
   "execution_count": 24,
   "metadata": {},
   "outputs": [
    {
     "name": "stdout",
     "output_type": "stream",
     "text": [
      "{'Nama': 'A', 'Umur': 18}\n",
      "data[\"Nama\"]: A\n",
      "data[\"Umur\"]: 18\n"
     ]
    }
   ],
   "source": [
    "data = {'Nama':'A', 'Umur':18}\n",
    "print(data)\n",
    "print('data[\"Nama\"]:', data['Nama'])\n",
    "print('data[\"Umur\"]:', data['Umur'])"
   ]
  },
  {
   "cell_type": "code",
   "execution_count": 25,
   "metadata": {},
   "outputs": [
    {
     "name": "stdout",
     "output_type": "stream",
     "text": [
      "contoh fungsi tanpa parameter\n",
      "contoh fungsi dengan paramater x =  TEST\n"
     ]
    }
   ],
   "source": [
    "def F1():\n",
    "    print('contoh fungsi tanpa parameter')\n",
    "\n",
    "def F2(x):\n",
    "    print('contoh fungsi dengan paramater x = ',x)\n",
    "\n",
    "F1()\n",
    "F2('TEST')"
   ]
  },
  {
   "cell_type": "code",
   "execution_count": null,
   "metadata": {},
   "outputs": [],
   "source": []
  }
 ],
 "metadata": {
  "kernelspec": {
   "display_name": "Python 3",
   "language": "python",
   "name": "python3"
  },
  "language_info": {
   "codemirror_mode": {
    "name": "ipython",
    "version": 3
   },
   "file_extension": ".py",
   "mimetype": "text/x-python",
   "name": "python",
   "nbconvert_exporter": "python",
   "pygments_lexer": "ipython3",
   "version": "3.7.3"
  }
 },
 "nbformat": 4,
 "nbformat_minor": 2
}
